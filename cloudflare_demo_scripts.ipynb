{
 "cells": [
  {
   "cell_type": "markdown",
   "metadata": {},
   "source": "# Cloudflare Security Demo - Testing Scripts\n\nThis notebook contains all the scripts needed for demonstrating Cloudflare security features.\n\n**Demo Site:** https://demo.oskarcode.com/\n\n**Usage:** Run each cell individually during your demo presentation."
  },
  {
   "cell_type": "markdown",
   "metadata": {},
   "source": [
    "## 1. DNS & Proxy Validation (Onboarding)\n",
    "\n",
    "These commands verify that the domain is properly configured with Cloudflare."
   ]
  },
  {
   "cell_type": "code",
   "execution_count": null,
   "metadata": {},
   "outputs": [],
   "source": "# DNS Resolution Check\n# Purpose: Verify domain resolves to Cloudflare IPs\n# Expected: Should return Cloudflare IP addresses (104.x.x.x, 172.x.x.x, etc.)\n!dig +short demo.oskarcode.com"
  },
  {
   "cell_type": "code",
   "execution_count": null,
   "metadata": {},
   "outputs": [],
   "source": "# HTTP Headers Check\n# Purpose: Verify Cloudflare is proxying the requests\n# Expected: Look for 'server: cloudflare' and 'cf-ray' headers\n# What it means: cf-ray = Cloudflare request ID, server = Cloudflare edge server\n!curl -I https://demo.oskarcode.com/"
  },
  {
   "cell_type": "code",
   "execution_count": null,
   "metadata": {},
   "outputs": [],
   "source": "# Whois IP Lookup\n# Purpose: Verify the resolved IP belongs to Cloudflare\n# Expected: Should show Cloudflare, Inc. as the organization\n# What it means: Confirms traffic goes through Cloudflare's network\nimport subprocess\nimport socket\n\n# Get IP address\ndomain_ip = socket.gethostbyname('demo.oskarcode.com')\nprint(f\"Domain IP: {domain_ip}\")\n\n# Run whois on the IP\nresult = subprocess.run(['whois', domain_ip], capture_output=True, text=True)\nfor line in result.stdout.split('\\n'):\n    if 'org' in line.lower() or 'organization' in line.lower():\n        print(line.strip())"
  },
  {
   "cell_type": "markdown",
   "metadata": {},
   "source": [
    "## 2. SQL Injection Testing\n",
    "\n",
    "Testing WAF (Web Application Firewall) protection against SQL injection attacks."
   ]
  },
  {
   "cell_type": "code",
   "execution_count": null,
   "metadata": {},
   "outputs": [],
   "source": "# Basic SQL Injection Test\n# Purpose: Test if WAF blocks SQL injection attempts\n# Expected WITHOUT Cloudflare: Returns products from database\n# Expected WITH Cloudflare WAF: HTTP 403 Forbidden or challenge page\n# What it means: Cloudflare WAF detected and blocked malicious SQL payload\n!curl -s \"https://demo.oskarcode.com/search/?q=test' OR '1'='1' --\" | head -10"
  },
  {
   "cell_type": "code",
   "execution_count": null,
   "metadata": {},
   "outputs": [],
   "source": "# Advanced SQL Injection Test\n# Purpose: Test WAF against more sophisticated SQL injection\n# Expected: Should be blocked by Cloudflare WAF\n# What it means: Advanced threat protection is working\n!curl -s \"https://demo.oskarcode.com/search/?q=test' UNION SELECT null,username,password FROM users--\" | head -10"
  },
  {
   "cell_type": "code",
   "execution_count": null,
   "metadata": {},
   "outputs": [],
   "source": "# Check Response Headers for SQL Injection\n# Purpose: See HTTP status and Cloudflare security headers\n# Expected: HTTP 403 with cf-mitigated header indicating block reason\n# What it means: Shows exactly how Cloudflare blocked the threat\n!curl -I \"https://demo.oskarcode.com/search/?q=test' OR '1'='1' --\""
  },
  {
   "cell_type": "markdown",
   "metadata": {},
   "source": [
    "## 3. Credential Exposure Testing\n",
    "\n",
    "Testing protection against exposed sensitive files and credentials."
   ]
  },
  {
   "cell_type": "code",
   "execution_count": null,
   "metadata": {},
   "outputs": [],
   "source": "# Environment File Exposure Test\n# Purpose: Test if sensitive .env files are accessible\n# Expected WITHOUT Cloudflare: Shows database credentials and API keys\n# Expected WITH Cloudflare: HTTP 403 or blocked by access rules\n# What it means: Cloudflare Access Rules protect sensitive configuration files\n!curl -s https://demo.oskarcode.com/.env.backup"
  },
  {
   "cell_type": "code",
   "execution_count": null,
   "metadata": {},
   "outputs": [],
   "source": "# Git Secrets Exposure Test\n# Purpose: Test if git repository files with secrets are accessible\n# Expected: Should be blocked by Cloudflare Access Rules\n# What it means: Protects against common credential leaking vectors\n!curl -s https://demo.oskarcode.com/.git/secrets.txt"
  },
  {
   "cell_type": "code",
   "execution_count": null,
   "metadata": {},
   "outputs": [],
   "source": "# Database Configuration Test\n# Purpose: Test if database config files are exposed\n# Expected: Should return HTTP 403 or 404\n# What it means: Critical infrastructure details are protected\n!curl -I https://demo.oskarcode.com/config/database.yml"
  },
  {
   "cell_type": "markdown",
   "metadata": {},
   "source": [
    "## 4. Bot Detection and Management\n",
    "\n",
    "Testing Cloudflare's ability to detect and block malicious bots."
   ]
  },
  {
   "cell_type": "code",
   "execution_count": null,
   "metadata": {},
   "outputs": [],
   "source": "# Bad Bot User Agent Test\n# Purpose: Test if Cloudflare Bot Management detects malicious bots\n# Expected WITHOUT Bot Management: Normal page content\n# Expected WITH Bot Management: Challenge page or HTTP 403\n# What it means: Suspicious user agents are flagged and challenged\n!curl -I \"https://demo.oskarcode.com/robots-welcome\" -A \"BadBot/1.0\""
  },
  {
   "cell_type": "code",
   "execution_count": null,
   "metadata": {},
   "outputs": [],
   "source": "# Scraping Bot Test\n# Purpose: Test bot detection on content scraping attempts\n# Expected: Should trigger bot challenge or block\n# What it means: Protects intellectual property and content\n!curl -s \"https://demo.oskarcode.com/robots-welcome\" -A \"ScrapingBot/2.1 (+http://example.com/bot)\" | head -10"
  },
  {
   "cell_type": "code",
   "execution_count": null,
   "metadata": {},
   "outputs": [],
   "source": "# Headless Browser Detection\n# Purpose: Test detection of automated browsers used for scraping\n# Expected: Challenge or block headless browser attempts\n# What it means: Advanced bot detection beyond just user-agent strings\n!curl -I \"https://demo.oskarcode.com/\" -A \"Mozilla/5.0 (X11; Linux x86_64) AppleWebKit/537.36 (KHTML, like Gecko) HeadlessChrome/91.0.4472.124 Safari/537.36\""
  },
  {
   "cell_type": "code",
   "execution_count": null,
   "metadata": {},
   "outputs": [],
   "source": "# Good Bot vs Bad Bot Comparison\n# Purpose: Show how legitimate bots are allowed while bad ones are blocked\n# Expected: Google bot should be allowed, BadBot should be challenged\n# What it means: Cloudflare intelligently distinguishes between bot types\nprint(\"=== GOOD BOT (Google) ===\")\n!curl -I \"https://demo.oskarcode.com/\" -A \"Googlebot/2.1 (+http://www.google.com/bot.html)\"\nprint(\"\\n=== BAD BOT ===\")\n!curl -I \"https://demo.oskarcode.com/\" -A \"BadBot/1.0\""
  },
  {
   "cell_type": "markdown",
   "metadata": {},
   "source": [
    "## 5. Rate Limiting Testing\n",
    "\n",
    "Testing Cloudflare Rate Limiting to prevent abuse and DDoS attacks."
   ]
  },
  {
   "cell_type": "code",
   "execution_count": null,
   "metadata": {},
   "outputs": [],
   "source": "# API Rate Limiting Test\n# Purpose: Test if rate limiting prevents API abuse\n# Expected WITHOUT Rate Limiting: All requests succeed (HTTP 200)\n# Expected WITH Rate Limiting: Later requests blocked (HTTP 429)\n# What it means: Prevents API abuse and ensures fair usage\nprint(\"Testing API rate limiting with 10 rapid requests...\")\nfor i in range(1, 11):\n    result = !curl -s -o /dev/null -w \"Request {i}: %{{http_code}}\\n\" https://demo.oskarcode.com/api/products/\n    print(result[0])"
  },
  {
   "cell_type": "code",
   "execution_count": null,
   "metadata": {},
   "outputs": [],
   "source": "# Login Brute Force Protection Test\n# Purpose: Test rate limiting on login attempts to prevent brute force\n# Expected: After several attempts, should get rate limited\n# What it means: Protects user accounts from credential stuffing attacks\nprint(\"Testing login rate limiting...\")\nfor i in range(1, 6):\n    result = !curl -s -X POST -d \"username=admin&password=wrong\" -w \"Login attempt {i}: %{{http_code}}\\n\" -o /dev/null https://demo.oskarcode.com/api/login-test/\n    print(result[0])"
  },
  {
   "cell_type": "code",
   "execution_count": null,
   "metadata": {},
   "outputs": [],
   "source": "# Page Access Rate Limiting\n# Purpose: Test rate limiting on page access to prevent scraping\n# Expected: Should start blocking after threshold is reached\n# What it means: Prevents automated content scraping and site abuse\nprint(\"Testing page access rate limiting...\")\nfor i in range(1, 8):\n    result = !curl -s -I https://demo.oskarcode.com/ -w \"Page request {i}: %{{http_code}}\\n\" -o /dev/null\n    print(result[0])"
  },
  {
   "cell_type": "markdown",
   "metadata": {},
   "source": [
    "## 6. DDoS Protection Testing\n",
    "\n",
    "Testing Cloudflare's DDoS protection capabilities."
   ]
  },
  {
   "cell_type": "code",
   "execution_count": null,
   "metadata": {},
   "outputs": [],
   "source": "# Simulated Traffic Spike Test\n# Purpose: Simulate sudden traffic increase to test DDoS protection\n# Expected: Cloudflare should handle the load gracefully\n# What it means: Site remains available during traffic spikes\nimport threading\nimport subprocess\nimport time\n\ndef make_request(i):\n    result = subprocess.run(['curl', '-s', '-o', '/dev/null', '-w', f'Request {i}: %{{http_code}}', 'https://demo.oskarcode.com/'], capture_output=True, text=True)\n    return result.stdout\n\nprint(\"Simulating traffic spike with 20 concurrent requests...\")\nthreads = []\nresults = []\n\nfor i in range(1, 21):\n    thread = threading.Thread(target=lambda x=i: results.append(make_request(x)))\n    threads.append(thread)\n    thread.start()\n\nfor thread in threads:\n    thread.join()\n\nfor result in results:\n    print(result)"
  },
  {
   "cell_type": "code",
   "execution_count": null,
   "metadata": {},
   "outputs": [],
   "source": "# Large Request Test\n# Purpose: Test protection against large HTTP requests\n# Expected: Should be handled or blocked appropriately\n# What it means: Prevents resource exhaustion attacks\nlarge_data = \"x\" * 10000  # 10KB of data\n!curl -s -X POST -d \"{large_data}\" -w \"Large request: %{{http_code}}\\n\" -o /dev/null https://demo.oskarcode.com/contact/"
  },
  {
   "cell_type": "markdown",
   "metadata": {},
   "source": [
    "## 7. Security Headers Validation\n",
    "\n",
    "Checking that Cloudflare adds important security headers."
   ]
  },
  {
   "cell_type": "code",
   "execution_count": null,
   "metadata": {},
   "outputs": [],
   "source": "# Security Headers Check\n# Purpose: Verify Cloudflare adds security headers\n# Expected: Should see headers like X-Content-Type-Options, X-Frame-Options, etc.\n# What it means: Additional layers of security protection\n!curl -I https://demo.oskarcode.com/ | grep -E \"(x-|cf-|strict-|content-security)\""
  },
  {
   "cell_type": "code",
   "execution_count": null,
   "metadata": {},
   "outputs": [],
   "source": "# SSL/TLS Configuration Check\n# Purpose: Verify SSL configuration and Cloudflare certificates\n# Expected: Should show Cloudflare SSL certificate details\n# What it means: Traffic is encrypted and authenticated\n!echo | openssl s_client -connect demo.oskarcode.com:443 -servername demo.oskarcode.com 2>/dev/null | openssl x509 -noout -issuer -subject -dates"
  },
  {
   "cell_type": "markdown",
   "metadata": {},
   "source": [
    "## 8. Performance Testing\n",
    "\n",
    "Testing the performance improvements provided by Cloudflare's CDN."
   ]
  },
  {
   "cell_type": "code",
   "execution_count": null,
   "metadata": {},
   "outputs": [],
   "source": "# Page Load Time Test\n# Purpose: Measure page load performance with Cloudflare CDN\n# Expected: Fast load times due to edge caching\n# What it means: Better user experience and SEO rankings\n!curl -s -w \"Page Load Times:\\nDNS lookup: %{time_namelookup}s\\nConnect: %{time_connect}s\\nSSL handshake: %{time_appconnect}s\\nTime to first byte: %{time_starttransfer}s\\nTotal time: %{time_total}s\\n\" -o /dev/null https://demo.oskarcode.com/"
  },
  {
   "cell_type": "code",
   "execution_count": null,
   "metadata": {},
   "outputs": [],
   "source": "# Cache Status Check\n# Purpose: Verify content is being cached by Cloudflare\n# Expected: Should see 'cf-cache-status: HIT' after first request\n# What it means: Static content served from edge, reducing origin load\nprint(\"First request (likely MISS):\")\n!curl -I https://demo.oskarcode.com/ | grep -i cache\nprint(\"\\nSecond request (should be HIT):\")\n!curl -I https://demo.oskarcode.com/ | grep -i cache"
  },
  {
   "cell_type": "markdown",
   "metadata": {},
   "source": [
    "## 9. Geographic Testing\n",
    "\n",
    "Testing Cloudflare's global network and geo-based features."
   ]
  },
  {
   "cell_type": "code",
   "execution_count": null,
   "metadata": {},
   "outputs": [],
   "source": "# Cloudflare Ray ID and Data Center\n# Purpose: See which Cloudflare data center is serving the request\n# Expected: cf-ray header shows location code (last 3 characters)\n# What it means: Traffic routed to nearest Cloudflare edge location\n!curl -I https://demo.oskarcode.com/ | grep cf-ray"
  },
  {
   "cell_type": "code",
   "execution_count": null,
   "metadata": {},
   "outputs": [],
   "source": "# Country Detection Test\n# Purpose: Test if Cloudflare can detect visitor country (if configured)\n# Expected: May see geo-related headers if configured\n# What it means: Enables geo-based rules and content customization\n!curl -I https://demo.oskarcode.com/ | grep -i \"geo\\|country\\|location\""
  },
  {
   "cell_type": "markdown",
   "metadata": {},
   "source": [
    "## 10. Workers Protection Testing\n",
    "\n",
    "Testing custom Cloudflare Workers security logic."
   ]
  },
  {
   "cell_type": "code",
   "execution_count": null,
   "metadata": {},
   "outputs": [],
   "source": "# Admin Portal Protection Test\n# Purpose: Test custom Workers script protecting admin areas\n# Expected: Should show progressive protection (warn -> block -> redirect)\n# What it means: Custom security logic at the edge\nprint(\"First admin portal access (should warn):\")\n!curl -I https://demo.oskarcode.com/admin-portal/"
  },
  {
   "cell_type": "code",
   "execution_count": null,
   "metadata": {},
   "outputs": [],
   "source": "# Multiple Admin Access Test\n# Purpose: Test Workers progressive protection logic\n# Expected: After 3 attempts, should redirect to demo.oskarcode.com\n# What it means: Smart threat response escalation\nfor i in range(1, 5):\n    print(f\"\\nAdmin attempt {i}:\")\n    result = !curl -I https://demo.oskarcode.com/admin-portal/ 2>/dev/null | grep -E \"(HTTP|Location)\"\n    for line in result:\n        print(line)"
  },
  {
   "cell_type": "markdown",
   "metadata": {},
   "source": [
    "## 11. Analytics and Reporting\n",
    "\n",
    "Commands to check security events and analytics."
   ]
  },
  {
   "cell_type": "code",
   "execution_count": null,
   "metadata": {},
   "outputs": [],
   "source": [
    "# Security Events Summary\n",
    "# Purpose: Show what security events would be logged\n",
    "# Expected: Educational summary of what gets logged\n",
    "# What it means: Comprehensive visibility into threats and attacks\n",
    "print(\"\"\"\n",
    "=== CLOUDFLARE SECURITY ANALYTICS ===\n",
    "\n",
    "The following events are automatically logged in Cloudflare Analytics:\n",
    "\n",
    "🛡️  WAF Events:\n",
    "   - SQL injection attempts blocked\n",
    "   - XSS attempts blocked  \n",
    "   - Malicious payload detection\n",
    "\n",
    "🤖 Bot Management:\n",
    "   - Malicious bot requests challenged/blocked\n",
    "   - Legitimate bot traffic allowed\n",
    "   - Bot score analysis\n",
    "\n",
    "⚡ Rate Limiting:\n",
    "   - Requests blocked due to rate limits\n",
    "   - Sources of excessive traffic\n",
    "   - API abuse prevention\n",
    "\n",
    "🌍 Traffic Analytics:\n",
    "   - Geographic distribution of threats\n",
    "   - Top attack vectors\n",
    "   - Response time improvements\n",
    "\n",
    "🔒 Access Control:\n",
    "   - Blocked access to sensitive files\n",
    "   - IP-based blocking events\n",
    "   - Custom Workers actions\n",
    "\n",
    "View detailed analytics at: https://dash.cloudflare.com/\n",
    "\"\"\")"
   ]
  },
  {
   "cell_type": "markdown",
   "metadata": {},
   "source": [
    "## 12. Demo Summary Commands\n",
    "\n",
    "Quick summary commands to show overall protection status."
   ]
  },
  {
   "cell_type": "code",
   "execution_count": null,
   "metadata": {},
   "outputs": [],
   "source": "# Complete Security Validation\n# Purpose: Quick overview of all security features active\n# Expected: Shows Cloudflare protection across all vectors\n# What it means: Comprehensive security posture\n\nprint(\"=== CLOUDFLARE SECURITY STATUS ===\")\nprint(\"\\n1. DNS & Proxy Status:\")\n!dig +short demo.oskarcode.com | head -2\n\nprint(\"\\n2. Cloudflare Headers:\")\n!curl -I https://demo.oskarcode.com/ 2>/dev/null | grep -E \"(server: cloudflare|cf-ray)\"\n\nprint(\"\\n3. WAF Protection (SQL Injection Test):\")\n!curl -I \"https://demo.oskarcode.com/search/?q=test' OR '1'='1'\" 2>/dev/null | grep \"HTTP\"\n\nprint(\"\\n4. Bot Management (Bad Bot Test):\")\n!curl -I \"https://demo.oskarcode.com/robots-welcome\" -A \"BadBot/1.0\" 2>/dev/null | grep \"HTTP\"\n\nprint(\"\\n5. SSL/TLS Certificate:\")\n!echo | openssl s_client -connect demo.oskarcode.com:443 -servername demo.oskarcode.com 2>/dev/null | openssl x509 -noout -issuer | grep -o \"Cloudflare\"\n\nprint(\"\\n✅ All Cloudflare security features are active and protecting the site!\")"
  },
  {
   "cell_type": "markdown",
   "metadata": {},
   "source": [
    "## Notes for Demo Presentation\n",
    "\n",
    "### Key Points to Highlight:\n",
    "\n",
    "1. **Before Cloudflare:** Show what happens without protection\n",
    "2. **After Cloudflare:** Demonstrate how threats are blocked\n",
    "3. **Performance:** Highlight speed improvements\n",
    "4. **Analytics:** Explain visibility and reporting\n",
    "5. **Scalability:** Show how it handles traffic spikes\n",
    "\n",
    "### Expected Response Codes:\n",
    "- **200:** Normal, allowed request\n",
    "- **403:** Blocked by security rules\n",
    "- **429:** Rate limited\n",
    "- **503:** Challenge page (\"Just a moment...\")\n",
    "\n",
    "### Key Headers to Point Out:\n",
    "- `server: cloudflare` - Confirms traffic through Cloudflare\n",
    "- `cf-ray` - Unique request ID for troubleshooting\n",
    "- `cf-cache-status` - Shows caching effectiveness\n",
    "- `cf-mitigated` - Shows what security action was taken\n",
    "\n",
    "### Demo Flow Suggestion:\n",
    "1. Start with DNS/Proxy validation\n",
    "2. Show vulnerability tests (SQL injection, bots, etc.)\n",
    "3. Demonstrate rate limiting and DDoS protection\n",
    "4. Highlight performance improvements\n",
    "5. End with analytics overview\n",
    "\n",
    "**Remember:** Run each cell individually during your demo for maximum impact!"
   ]
  }
 ],
 "metadata": {
  "kernelspec": {
   "display_name": "Python 3",
   "language": "python",
   "name": "python3"
  },
  "language_info": {
   "codemirror_mode": {
    "name": "ipython",
    "version": 3
   },
   "file_extension": ".py",
   "mimetype": "text/x-python",
   "name": "python",
   "nbconvert_exporter": "python",
   "pygments_lexer": "ipython3",
   "version": "3.13.3"
  }
 },
 "nbformat": 4,
 "nbformat_minor": 4
}