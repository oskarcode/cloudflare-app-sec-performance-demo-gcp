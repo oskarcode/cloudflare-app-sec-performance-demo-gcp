{
 "cells": [
  {
   "cell_type": "markdown",
   "metadata": {
    "colab_type": "text",
    "id": "header"
   },
   "source": "# Cloudflare Security Demo - Testing Scripts (Google Colab Edition)\n\n[![Open In Colab](https://colab.research.google.com/assets/colab-badge.svg)](https://colab.research.google.com/)\n\nThis notebook contains all the scripts needed for demonstrating Cloudflare security features.\n\n**Demo Site:** https://demo.oskarcode.com/\n\n**Usage:** Run each cell individually during your demo presentation.\n\n**Note:** This notebook is optimized for Google Colab and includes system package installations where needed."
  },
  {
   "cell_type": "code",
   "execution_count": null,
   "metadata": {
    "colab": {
     "base_uri": "https://localhost:8080/"
    },
    "id": "setup"
   },
   "source": [
    "# Initial Setup for Google Colab\n",
    "# Purpose: Install required system packages that may not be available in Colab\n",
    "# Expected: Successful installation of dig, whois, and openssl tools\n",
    "!apt-get update -qq\n",
    "!apt-get install -y dnsutils whois openssl\n",
    "print(\"✅ Setup complete! All required tools installed.\")"
   ],
   "outputs": []
  },
  {
   "cell_type": "markdown",
   "metadata": {
    "id": "dns-validation"
   },
   "source": [
    "## 1. DNS & Proxy Validation (Onboarding)\n",
    "\n",
    "These commands verify that the domain is properly configured with Cloudflare."
   ]
  },
  {
   "cell_type": "code",
   "execution_count": null,
   "metadata": {
    "id": "dns-resolution"
   },
   "source": "# DNS Resolution Check\n# Purpose: Verify domain resolves to Cloudflare IPs\n# Expected: Should return Cloudflare IP addresses (104.x.x.x, 172.x.x.x, etc.)\nprint(\"🔍 Checking DNS resolution for demo.oskarcode.com...\")\n!dig +short demo.oskarcode.com\nprint(\"\\n✅ If you see IP addresses above, DNS resolution is working!\")",
   "outputs": []
  },
  {
   "cell_type": "code",
   "execution_count": null,
   "metadata": {
    "id": "http-headers"
   },
   "source": "# HTTP Headers Check\n# Purpose: Verify Cloudflare is proxying the requests\n# Expected: Look for 'server: cloudflare' and 'cf-ray' headers\n# What it means: cf-ray = Cloudflare request ID, server = Cloudflare edge server\nprint(\"🌐 Checking HTTP headers for Cloudflare indicators...\")\n!curl -I https://demo.oskarcode.com/\nprint(\"\\n✅ Look for 'server: cloudflare' and 'cf-ray' headers above!\")",
   "outputs": []
  },
  {
   "cell_type": "code",
   "execution_count": null,
   "metadata": {
    "id": "whois-lookup"
   },
   "source": "# Whois IP Lookup\n# Purpose: Verify the resolved IP belongs to Cloudflare\n# Expected: Should show Cloudflare, Inc. as the organization\n# What it means: Confirms traffic goes through Cloudflare's network\nimport subprocess\nimport socket\n\ntry:\n    # Get IP address\n    domain_ip = socket.gethostbyname('demo.oskarcode.com')\n    print(f\"🔍 Domain IP: {domain_ip}\")\n    \n    # Run whois on the IP\n    result = subprocess.run(['whois', domain_ip], capture_output=True, text=True, timeout=10)\n    print(\"\\n🏢 Organization info:\")\n    for line in result.stdout.split('\\n'):\n        if any(keyword in line.lower() for keyword in ['org', 'organization', 'owner', 'netname']):\n            print(f\"  {line.strip()}\")\n    \n    print(\"\\n✅ Look for 'Cloudflare' in the organization info above!\")\nexcept Exception as e:\n    print(f\"⚠️  Whois lookup failed: {e}\")\n    print(\"This is normal in some environments. DNS and HTTP tests are sufficient.\")",
   "outputs": []
  },
  {
   "cell_type": "markdown",
   "metadata": {
    "id": "sql-injection"
   },
   "source": [
    "## 2. SQL Injection Testing\n",
    "\n",
    "Testing WAF (Web Application Firewall) protection against SQL injection attacks."
   ]
  },
  {
   "cell_type": "code",
   "execution_count": null,
   "metadata": {
    "id": "basic-sql-injection"
   },
   "source": "# Basic SQL Injection Test\n# Purpose: Test if WAF blocks SQL injection attempts\n# Expected WITHOUT Cloudflare: Returns products from database\n# Expected WITH Cloudflare WAF: HTTP 403 Forbidden or challenge page\n# What it means: Cloudflare WAF detected and blocked malicious SQL payload\nprint(\"🛡️ Testing basic SQL injection protection...\")\nprint(\"Payload: test' OR '1'='1' --\")\nprint(\"\\n📝 Response:\")\n!curl -s \"https://demo.oskarcode.com/search/?q=test' OR '1'='1' --\" | head -10\nprint(\"\\n✅ If you see a Cloudflare challenge page or 403 error above, WAF is working!\")",
   "outputs": []
  },
  {
   "cell_type": "code",
   "execution_count": null,
   "metadata": {
    "id": "advanced-sql-injection"
   },
   "source": "# Flash Sale Workers Rate Limiter Test\n# Purpose: Test Workers script protecting flash sales from bot attacks\n# Expected: HTTP 429 after rapid requests, then access restored after 10s cooldown\n# What it means: Custom edge logic protects high-demand e-commerce pages\nprint(\"🔥 Testing Flash Sale Workers rate limiting...\")\nprint(\"Target: /flash-sale/ (protected by Workers script)\")\nprint(\"\\n📊 First request (should work):\")\n!curl -I \"https://demo.oskarcode.com/flash-sale/\" | head -3\nprint(\"\\n📊 Second request immediately (should get HTTP 429):\")\n!curl -I \"https://demo.oskarcode.com/flash-sale/\" | head -3\nprint(\"\\n✅ Workers script actively protecting flash sale pages from bot abuse!\")",
   "outputs": []
  },
  {
   "cell_type": "code",
   "execution_count": null,
   "metadata": {
    "id": "sql-injection-headers"
   },
   "source": "# Check Response Headers for SQL Injection\n# Purpose: See HTTP status and Cloudflare security headers\n# Expected: HTTP 403 with cf-mitigated header indicating block reason\n# What it means: Shows exactly how Cloudflare blocked the threat\nprint(\"📊 Checking response headers for SQL injection attempt...\")\n!curl -I \"https://demo.oskarcode.com/search/?q=test' OR '1'='1' --\"\nprint(\"\\n✅ Look for HTTP status code and 'cf-mitigated' header!\")",
   "outputs": []
  },
  {
   "cell_type": "markdown",
   "metadata": {
    "id": "credential-exposure"
   },
   "source": [
    "## 3. Credential Exposure Testing\n",
    "\n",
    "Testing protection against exposed sensitive files and credentials."
   ]
  },
  {
   "cell_type": "code",
   "execution_count": null,
   "metadata": {
    "id": "env-file-test"
   },
   "source": "# Git Secrets Exposure Test\n# Purpose: Test if git repository files with secrets are accessible\n# Expected: Should be blocked by Cloudflare Access Rules\n# What it means: Protects against common credential leaking vectors\nprint(\"🔐 Testing git secrets protection...\")\nprint(\"Attempting to access: /.git/secrets.txt\")\nprint(\"\\n📝 Response:\")\n!curl -s https://demo.oskarcode.com/.git/secrets.txt\nprint(\"\\n✅ Git files should be protected by WAF rules!\")",
   "outputs": []
  },
  {
   "cell_type": "code",
   "execution_count": null,
   "metadata": {
    "id": "db-config-test"
   },
   "source": "# Database Configuration Test\n# Purpose: Test if database config files are exposed\n# Expected: Should return HTTP 403 or 404\n# What it means: Critical infrastructure details are protected\nprint(\"🔐 Testing database config protection...\")\nprint(\"Attempting to access: /config/database.yml\")\nprint(\"\\n📊 Headers:\")\n!curl -I https://demo.oskarcode.com/config/database.yml\nprint(\"\\n✅ Config files should return 403/404!\")",
   "outputs": []
  },
  {
   "cell_type": "code",
   "execution_count": null,
   "metadata": {
    "id": "bad-bot-test"
   },
   "source": "# Bad Bot User Agent Test\n# Purpose: Test if Cloudflare Bot Management detects malicious bots\n# Expected WITHOUT Bot Management: Normal page content\n# Expected WITH Bot Management: Challenge page or HTTP 403\n# What it means: Suspicious user agents are flagged and challenged\nprint(\"🤖 Testing bad bot detection...\")\nprint(\"User-Agent: BadBot/1.0\")\nprint(\"\\n📊 Headers:\")\n!curl -I \"https://demo.oskarcode.com/robots-welcome\" -A \"BadBot/1.0\"\nprint(\"\\n✅ Bad bots should be challenged or blocked!\")",
   "outputs": []
  },
  {
   "cell_type": "code",
   "execution_count": null,
   "metadata": {
    "id": "scraping-bot-test"
   },
   "source": "# Scraping Bot Test\n# Purpose: Test bot detection on content scraping attempts\n# Expected: Should trigger bot challenge or block\n# What it means: Protects intellectual property and content\nprint(\"🤖 Testing scraping bot detection...\")\nprint(\"User-Agent: ScrapingBot/2.1\")\nprint(\"\\n📝 Response:\")\n!curl -s \"https://demo.oskarcode.com/robots-welcome\" -A \"ScrapingBot/2.1 (+http://example.com/bot)\" | head -10\nprint(\"\\n✅ Scraping bots should be detected and challenged!\")",
   "outputs": []
  },
  {
   "cell_type": "code",
   "execution_count": null,
   "metadata": {
    "id": "headless-browser-test"
   },
   "source": "# Headless Browser Detection\n# Purpose: Test detection of automated browsers used for scraping\n# Expected: Challenge or block headless browser attempts\n# What it means: Advanced bot detection beyond just user-agent strings\nprint(\"🤖 Testing headless browser detection...\")\nprint(\"User-Agent: HeadlessChrome\")\nprint(\"\\n📊 Headers:\")\n!curl -I \"https://demo.oskarcode.com/\" -A \"Mozilla/5.0 (X11; Linux x86_64) AppleWebKit/537.36 (KHTML, like Gecko) HeadlessChrome/91.0.4472.124 Safari/537.36\"\nprint(\"\\n✅ Headless browsers should be detected!\")",
   "outputs": []
  },
  {
   "cell_type": "code",
   "execution_count": null,
   "metadata": {
    "id": "good-vs-bad-bot"
   },
   "source": "# Good Bot vs Bad Bot Comparison\n# Purpose: Show how legitimate bots are allowed while bad ones are blocked\n# Expected: Google bot should be allowed, BadBot should be challenged\n# What it means: Cloudflare intelligently distinguishes between bot types\nprint(\"🤖 Comparing Good Bot vs Bad Bot treatment...\")\nprint(\"\\n=== GOOD BOT (Googlebot) ===\")\n!curl -I \"https://demo.oskarcode.com/\" -A \"Googlebot/2.1 (+http://www.google.com/bot.html)\" | head -3\nprint(\"\\n=== BAD BOT (BadBot) ===\")\n!curl -I \"https://demo.oskarcode.com/\" -A \"BadBot/1.0\" | head -3\nprint(\"\\n✅ Notice the different treatment between good and bad bots!\")",
   "outputs": []
  },
  {
   "cell_type": "markdown",
   "metadata": {
    "id": "rate-limiting"
   },
   "source": [
    "## 5. Rate Limiting Testing\n",
    "\n",
    "Testing Cloudflare Rate Limiting to prevent abuse and DDoS attacks."
   ]
  },
  {
   "cell_type": "code",
   "execution_count": null,
   "metadata": {
    "id": "api-rate-limiting"
   },
   "source": "# API Rate Limiting Test\n# Purpose: Test if rate limiting prevents API abuse\n# Expected WITHOUT Rate Limiting: All requests succeed (HTTP 200)\n# Expected WITH Rate Limiting: Later requests blocked (HTTP 429)\n# What it means: Prevents API abuse and ensures fair usage\nimport subprocess\nimport time\n\nprint(\"⚡ Testing API rate limiting with 10 rapid requests...\")\nprint(\"Target: /api/products/\")\nprint(\"\\n📊 Results:\")\n\nfor i in range(1, 11):\n    result = subprocess.run([\n        'curl', '-s', '-o', '/dev/null', '-w', f'Request {i:2d}: %{{http_code}}', \n        'https://demo.oskarcode.com/api/products/'\n    ], capture_output=True, text=True)\n    print(result.stdout)\n    time.sleep(0.1)  # Small delay to avoid overwhelming Colab\n\nprint(\"\\n✅ Look for HTTP 429 (Too Many Requests) if rate limiting is active!\")",
   "outputs": []
  },
  {
   "cell_type": "code",
   "execution_count": null,
   "metadata": {
    "id": "login-rate-limiting"
   },
   "source": "# Login Brute Force Protection Test\n# Purpose: Test rate limiting on login attempts to prevent brute force\n# Expected: After several attempts, should get rate limited\n# What it means: Protects user accounts from credential stuffing attacks\nimport subprocess\nimport time\n\nprint(\"⚡ Testing login rate limiting...\")\nprint(\"Target: /api/login-test/\")\nprint(\"\\n📊 Results:\")\n\nfor i in range(1, 6):\n    result = subprocess.run([\n        'curl', '-s', '-X', 'POST', \n        '-d', 'username=admin&password=wrong',\n        '-w', f'Login attempt {i}: %{{http_code}}',\n        '-o', '/dev/null',\n        'https://demo.oskarcode.com/api/login-test/'\n    ], capture_output=True, text=True)\n    print(result.stdout)\n    time.sleep(0.5)  # Delay between login attempts\n\nprint(\"\\n✅ Look for increasing response times or HTTP 429 for protection!\")",
   "outputs": []
  },
  {
   "cell_type": "code",
   "execution_count": null,
   "metadata": {
    "id": "page-rate-limiting"
   },
   "source": "# Page Access Rate Limiting\n# Purpose: Test rate limiting on page access to prevent scraping\n# Expected: Should start blocking after threshold is reached\n# What it means: Prevents automated content scraping and site abuse\nimport subprocess\nimport time\n\nprint(\"⚡ Testing page access rate limiting...\")\nprint(\"Target: / (homepage)\")\nprint(\"\\n📊 Results:\")\n\nfor i in range(1, 8):\n    result = subprocess.run([\n        'curl', '-s', '-I', \n        '-w', f'Page request {i}: %{{http_code}}',\n        '-o', '/dev/null',\n        'https://demo.oskarcode.com/'\n    ], capture_output=True, text=True)\n    print(result.stdout)\n    time.sleep(0.2)\n\nprint(\"\\n✅ Rate limiting may activate after multiple rapid requests!\")",
   "outputs": []
  },
  {
   "cell_type": "markdown",
   "metadata": {
    "id": "ddos-protection"
   },
   "source": [
    "## 6. DDoS Protection Testing\n",
    "\n",
    "Testing Cloudflare's DDoS protection capabilities.\n",
    "\n",
    "**Note:** These tests are limited in Colab to avoid overwhelming the service."
   ]
  },
  {
   "cell_type": "code",
   "execution_count": null,
   "metadata": {
    "id": "traffic-spike-test"
   },
   "source": "# Simulated Traffic Spike Test (Limited for Colab)\n# Purpose: Simulate moderate traffic increase to test DDoS protection\n# Expected: Cloudflare should handle the load gracefully\n# What it means: Site remains available during traffic spikes\nimport subprocess\nimport time\nfrom concurrent.futures import ThreadPoolExecutor\n\ndef make_request(i):\n    result = subprocess.run([\n        'curl', '-s', '-o', '/dev/null', '-w', f'Request {i:2d}: %{{http_code}}',\n        'https://demo.oskarcode.com/'\n    ], capture_output=True, text=True)\n    return result.stdout\n\nprint(\"⚡ Simulating moderate traffic spike with 10 concurrent requests...\")\nprint(\"(Limited for Colab environment)\")\nprint(\"\\n📊 Results:\")\n\nwith ThreadPoolExecutor(max_workers=5) as executor:\n    futures = [executor.submit(make_request, i) for i in range(1, 11)]\n    for future in futures:\n        print(future.result())\n\nprint(\"\\n✅ All requests should complete successfully with Cloudflare protection!\")",
   "outputs": []
  },
  {
   "cell_type": "code",
   "execution_count": null,
   "metadata": {
    "id": "large-request-test"
   },
   "source": "# Large Request Test\n# Purpose: Test protection against large HTTP requests\n# Expected: Should be handled or blocked appropriately\n# What it means: Prevents resource exhaustion attacks\nprint(\"⚡ Testing large request handling...\")\nprint(\"Sending 5KB POST request to contact form\")\n\nlarge_data = \"x\" * 5000  # 5KB of data (reduced for Colab)\nresult = subprocess.run([\n    'curl', '-s', '-X', 'POST', \n    '-d', f'message={large_data}',\n    '-w', 'Large request: %{http_code}\\n',\n    '-o', '/dev/null',\n    'https://demo.oskarcode.com/contact/'\n], capture_output=True, text=True)\n\nprint(f\"📊 Response: {result.stdout}\")\nprint(\"\\n✅ Large requests should be handled appropriately!\")",
   "outputs": []
  },
  {
   "cell_type": "markdown",
   "metadata": {
    "id": "security-headers"
   },
   "source": [
    "## 7. Security Headers Validation\n",
    "\n",
    "Checking that Cloudflare adds important security headers."
   ]
  },
  {
   "cell_type": "code",
   "execution_count": null,
   "metadata": {
    "id": "security-headers-check"
   },
   "source": "# Security Headers Check\n# Purpose: Verify Cloudflare adds security headers\n# Expected: Should see headers like X-Content-Type-Options, X-Frame-Options, etc.\n# What it means: Additional layers of security protection\nprint(\"🛡️ Checking security headers...\")\nprint(\"\\n📊 Security-related headers:\")\n!curl -I https://demo.oskarcode.com/ 2>/dev/null | grep -iE \"(x-|cf-|strict-|content-security|permissions-policy)\"\nprint(\"\\n✅ Look for X-Frame-Options, X-Content-Type-Options, and CF- headers!\")",
   "outputs": []
  },
  {
   "cell_type": "code",
   "execution_count": null,
   "metadata": {
    "id": "ssl-check"
   },
   "source": "# SSL/TLS Configuration Check\n# Purpose: Verify SSL configuration and Cloudflare certificates\n# Expected: Should show Cloudflare SSL certificate details\n# What it means: Traffic is encrypted and authenticated\nprint(\"🔒 Checking SSL/TLS certificate...\")\nprint(\"\\n📜 Certificate details:\")\n!echo | openssl s_client -connect demo.oskarcode.com:443 -servername demo.oskarcode.com 2>/dev/null | openssl x509 -noout -issuer -subject -dates\nprint(\"\\n✅ Look for Cloudflare as the certificate issuer!\")",
   "outputs": []
  },
  {
   "cell_type": "markdown",
   "metadata": {
    "id": "performance-testing"
   },
   "source": [
    "## 8. Performance Testing\n",
    "\n",
    "Testing the performance improvements provided by Cloudflare's CDN."
   ]
  },
  {
   "cell_type": "code",
   "execution_count": null,
   "metadata": {
    "id": "page-load-time"
   },
   "source": "# Page Load Time Test\n# Purpose: Measure page load performance with Cloudflare CDN\n# Expected: Fast load times due to edge caching\n# What it means: Better user experience and SEO rankings\nprint(\"🚀 Measuring page load performance...\")\nprint(\"\\n⏱️  Performance metrics:\")\n!curl -s -w \"DNS lookup:      %{time_namelookup}s\\nConnect:         %{time_connect}s\\nSSL handshake:   %{time_appconnect}s\\nTime to first byte: %{time_starttransfer}s\\nTotal time:      %{time_total}s\\nDownload size:   %{size_download} bytes\\n\" -o /dev/null https://demo.oskarcode.com/\nprint(\"\\n✅ Fast load times indicate effective CDN caching!\")",
   "outputs": []
  },
  {
   "cell_type": "code",
   "execution_count": null,
   "metadata": {
    "id": "cache-status"
   },
   "source": "# Cache Status Check\n# Purpose: Verify content is being cached by Cloudflare\n# Expected: Should see 'cf-cache-status: HIT' after first request\n# What it means: Static content served from edge, reducing origin load\nimport time\n\nprint(\"💾 Testing Cloudflare cache status...\")\nprint(\"\\n📊 First request (likely MISS or DYNAMIC):\")\n!curl -I https://demo.oskarcode.com/ 2>/dev/null | grep -i cache\n\nprint(\"\\n⏳ Waiting 2 seconds...\")\ntime.sleep(2)\n\nprint(\"\\n📊 Second request (checking for cache HIT):\")\n!curl -I https://demo.oskarcode.com/ 2>/dev/null | grep -i cache\n\nprint(\"\\n✅ Look for 'cf-cache-status' header showing cache effectiveness!\")",
   "outputs": []
  },
  {
   "cell_type": "markdown",
   "metadata": {
    "id": "geographic-testing"
   },
   "source": [
    "## 9. Geographic Testing\n",
    "\n",
    "Testing Cloudflare's global network and geo-based features."
   ]
  },
  {
   "cell_type": "code",
   "execution_count": null,
   "metadata": {
    "id": "datacenter-location"
   },
   "source": "# Cloudflare Ray ID and Data Center\n# Purpose: See which Cloudflare data center is serving the request\n# Expected: cf-ray header shows location code (last 3 characters)\n# What it means: Traffic routed to nearest Cloudflare edge location\nprint(\"🌍 Identifying Cloudflare data center...\")\nprint(\"\\n📍 Ray ID and location:\")\n\nimport re\nimport subprocess\n\nresult = subprocess.run(['curl', '-I', 'https://demo.oskarcode.com/'], capture_output=True, text=True)\nfor line in result.stdout.split('\\n'):\n    if 'cf-ray' in line.lower():\n        print(line.strip())\n        # Extract location code (last 3 characters before any dash)\n        ray_match = re.search(r'cf-ray: ([a-f0-9]+)-(\\w{3})', line, re.IGNORECASE)\n        if ray_match:\n            location_code = ray_match.group(2)\n            print(f\"📍 Data center code: {location_code}\")\n            print(f\"🌐 This indicates your geographic proximity to Cloudflare's edge network!\")\n\nprint(\"\\n✅ Different locations will show different data center codes!\")",
   "outputs": []
  },
  {
   "cell_type": "code",
   "execution_count": null,
   "metadata": {
    "id": "geo-headers"
   },
   "source": "# Country Detection Test\n# Purpose: Test if Cloudflare can detect visitor country (if configured)\n# Expected: May see geo-related headers if configured\n# What it means: Enables geo-based rules and content customization\nprint(\"🌍 Checking for geographic detection headers...\")\nprint(\"\\n📍 Geographic headers (if configured):\")\n!curl -I https://demo.oskarcode.com/ 2>/dev/null | grep -iE \"(geo|country|location|cf-ipcountry)\"\n\nprint(\"\\n📝 Note: Geographic headers may not be visible unless specifically configured\")\nprint(\"✅ Cloudflare can provide country/region data when enabled in dashboard!\")",
   "outputs": []
  },
  {
   "cell_type": "markdown",
   "metadata": {
    "id": "workers-protection"
   },
   "source": [
    "## 10. Workers Protection Testing\n",
    "\n",
    "Testing custom Cloudflare Workers security logic."
   ]
  },
  {
   "cell_type": "code",
   "execution_count": null,
   "metadata": {
    "id": "admin-portal-test"
   },
   "source": "# Flash Sale Workers Protection - Detailed Test\n# Purpose: Show the complete Workers protection flow\n# Expected: Rate limiting in action with custom response page\n# What it means: E-commerce sites can protect flash sales from bot attacks\nprint(\"⚙️ Testing comprehensive Flash Sale protection...\")\nprint(\"Target: /flash-sale/ (Workers-protected endpoint)\")\nprint(\"\\n📝 Testing rapid access (simulating bot behavior):\")\n!curl -s \"https://demo.oskarcode.com/flash-sale/\" | head -5\nprint(\"\\n✅ Workers provide sophisticated custom protection at the edge!\")",
   "outputs": []
  },
  {
   "cell_type": "code",
   "execution_count": null,
   "metadata": {
    "id": "multiple-admin-access"
   },
   "source": "# Workers Rate Limiting - Technical Details\n# Purpose: Show the technical implementation of Workers rate limiting\n# Expected: Custom headers showing Workers protection status\n# What it means: Developers can implement any custom security logic\nimport subprocess\nimport time\n\nprint(\"⚙️ Testing Workers technical implementation...\")\nprint(\"Analyzing Workers protection headers...\")\n\nfor i in range(1, 3):\n    print(f\"\\n📊 Flash sale request {i}:\")\n    result = subprocess.run(['curl', '-I', 'https://demo.oskarcode.com/flash-sale/'], capture_output=True, text=True)\n    \n    # Show key headers\n    for line in result.stdout.split('\\n'):\n        if any(keyword in line.lower() for keyword in ['http/', 'x-rate', 'retry-after', 'x-protected']):\n            print(f\"  {line.strip()}\")\n    \n    time.sleep(1)  # Brief delay\n\nprint(\"\\n✅ Workers enable custom business logic and intelligent protection!\")",
   "outputs": []
  },
  {
   "cell_type": "markdown",
   "metadata": {
    "id": "analytics-reporting"
   },
   "source": [
    "## 11. Analytics and Reporting\n",
    "\n",
    "Overview of security events and analytics capabilities."
   ]
  },
  {
   "cell_type": "code",
   "execution_count": null,
   "metadata": {
    "id": "security-events-summary"
   },
   "source": [
    "# Security Events Summary\n",
    "# Purpose: Show what security events would be logged\n",
    "# Expected: Educational summary of what gets logged\n",
    "# What it means: Comprehensive visibility into threats and attacks\n",
    "\n",
    "print(\"\"\"\n",
    "📊 CLOUDFLARE SECURITY ANALYTICS OVERVIEW\n",
    "═══════════════════════════════════════════\n",
    "\n",
    "The following events are automatically logged and analyzed:\n",
    "\n",
    "🛡️  WAF (Web Application Firewall) Events:\n",
    "   ✓ SQL injection attempts blocked\n",
    "   ✓ XSS (Cross-site scripting) attempts blocked  \n",
    "   ✓ Malicious payload detection\n",
    "   ✓ OWASP Top 10 threat protection\n",
    "\n",
    "🤖 Bot Management Events:\n",
    "   ✓ Malicious bot requests challenged/blocked\n",
    "   ✓ Legitimate bot traffic allowed (Google, Bing, etc.)\n",
    "   ✓ Bot score analysis and machine learning detection\n",
    "   ✓ Headless browser detection\n",
    "\n",
    "⚡ Rate Limiting Events:\n",
    "   ✓ Requests blocked due to rate limits\n",
    "   ✓ Sources of excessive traffic identified\n",
    "   ✓ API abuse prevention\n",
    "   ✓ Brute force attack mitigation\n",
    "\n",
    "🌍 Traffic & Performance Analytics:\n",
    "   ✓ Geographic distribution of requests and threats\n",
    "   ✓ Top attack vectors and sources\n",
    "   ✓ Response time improvements via CDN\n",
    "   ✓ Bandwidth savings and cache hit ratios\n",
    "\n",
    "🔒 Access Control Events:\n",
    "   ✓ Blocked access to sensitive files\n",
    "   ✓ IP-based blocking and allowlisting\n",
    "   ✓ Custom Workers actions and responses\n",
    "   ✓ SSL/TLS security events\n",
    "\n",
    "⚙️  Custom Workers Events:\n",
    "   ✓ Custom security logic execution\n",
    "   ✓ Progressive threat response actions\n",
    "   ✓ Business logic security enforcement\n",
    "   ✓ Edge computing security functions\n",
    "\n",
    "📈 Business Intelligence:\n",
    "   ✓ Attack trends and patterns\n",
    "   ✓ Security ROI metrics\n",
    "   ✓ Threat landscape insights\n",
    "   ✓ Compliance reporting data\n",
    "\n",
    "🔗 Access Analytics Dashboard:\n",
    "   https://dash.cloudflare.com/\n",
    "   \n",
    "   Navigation: Analytics > Security > Events\n",
    "              Speed > Performance\n",
    "              Workers > Analytics\n",
    "\n",
    "✅ All events include detailed metadata: IP, user agent, country, \n",
    "   timestamp, action taken, and custom fields for forensic analysis.\n",
    "\"\"\")"
   ],
   "outputs": []
  },
  {
   "cell_type": "markdown",
   "metadata": {
    "id": "demo-summary"
   },
   "source": [
    "## 12. Demo Summary Commands\n",
    "\n",
    "Quick summary commands to show overall protection status."
   ]
  },
  {
   "cell_type": "code",
   "execution_count": null,
   "metadata": {
    "id": "complete-security-validation"
   },
   "source": "# Complete Security Validation\n# Purpose: Quick overview of all security features active\n# Expected: Shows Cloudflare protection across all vectors\n# What it means: Comprehensive security posture validation\n\nprint(\"🛡️ CLOUDFLARE SECURITY STATUS SUMMARY\")\nprint(\"═\" * 50)\n\nprint(\"\\n1️⃣  DNS & Proxy Status:\")\n!dig +short demo.oskarcode.com | head -2\n\nprint(\"\\n2️⃣  Cloudflare Headers Verification:\")\n!curl -I https://demo.oskarcode.com/ 2>/dev/null | grep -E \"(server: cloudflare|cf-ray)\" | head -2\n\nprint(\"\\n3️⃣  WAF Protection Test (SQL Injection):\")\n!curl -I \"https://demo.oskarcode.com/search/?q=test' OR '1'='1'\" 2>/dev/null | grep \"HTTP\" | head -1\n\nprint(\"\\n4️⃣  Bot Management Test (Bad Bot):\")\n!curl -I \"https://demo.oskarcode.com/robots-welcome\" -A \"BadBot/1.0\" 2>/dev/null | grep \"HTTP\" | head -1\n\nprint(\"\\n5️⃣  SSL/TLS Certificate Validation:\")\n!echo | openssl s_client -connect demo.oskarcode.com:443 -servername demo.oskarcode.com 2>/dev/null | openssl x509 -noout -issuer | grep -o \"Cloudflare\" | head -1\n\nprint(\"\\n6️⃣  Performance - Time to First Byte:\")\n!curl -s -w \"TTFB: %{time_starttransfer}s\" -o /dev/null https://demo.oskarcode.com/\n\nprint(\"\\n\\n\" + \"═\" * 50)\nprint(\"✅ SECURITY STATUS: All Cloudflare protection layers are ACTIVE!\")\nprint(\"🌐 Your site is protected by the Cloudflare global network.\")\nprint(\"📊 Visit https://dash.cloudflare.com/ for detailed analytics.\")\nprint(\"═\" * 50)",
   "outputs": []
  },
  {
   "cell_type": "markdown",
   "metadata": {
    "id": "demo-notes"
   },
   "source": [
    "## 📋 Demo Presentation Notes\n",
    "\n",
    "### 🎯 Key Points to Highlight During Demo:\n",
    "\n",
    "1. **🔄 Before vs After Cloudflare:** Show the difference in security posture\n",
    "2. **🚀 Performance Impact:** Highlight speed improvements and caching\n",
    "3. **📊 Analytics Value:** Explain visibility and threat intelligence\n",
    "4. **📈 Scalability:** Demonstrate handling of traffic spikes\n",
    "5. **🤖 Smart Detection:** Show intelligent bot vs human differentiation\n",
    "\n",
    "### 🔢 Expected HTTP Response Codes:\n",
    "- **200 OK:** Normal, allowed request\n",
    "- **403 Forbidden:** Blocked by security rules (WAF, Access Rules)\n",
    "- **429 Too Many Requests:** Rate limited\n",
    "- **503 Service Unavailable:** Challenge page (\"Just a moment...\")\n",
    "\n",
    "### 🏷️ Important Headers to Point Out:\n",
    "- `server: cloudflare` → Confirms traffic through Cloudflare network\n",
    "- `cf-ray` → Unique request ID for troubleshooting and analytics\n",
    "- `cf-cache-status` → Shows CDN caching effectiveness (HIT/MISS)\n",
    "- `cf-mitigated` → Indicates what security action was taken\n",
    "\n",
    "### 📋 Suggested Demo Flow:\n",
    "\n",
    "1. **🔍 Start with Infrastructure Validation** (Cells 1-3)\n",
    "   - Show DNS pointing to Cloudflare\n",
    "   - Verify proxy status and headers\n",
    "\n",
    "2. **🛡️ Demonstrate Security Features** (Cells 4-10)\n",
    "   - SQL injection protection\n",
    "   - Bot detection and management\n",
    "   - Rate limiting in action\n",
    "   - Custom Workers logic\n",
    "\n",
    "3. **🚀 Show Performance Benefits** (Cell 11)\n",
    "   - Load time improvements\n",
    "   - Cache hit rates\n",
    "\n",
    "4. **📊 Wrap up with Analytics Overview** (Cell 12-13)\n",
    "   - Explain comprehensive logging\n",
    "   - Show dashboard capabilities\n",
    "\n",
    "### 💡 Pro Tips for Google Colab:\n",
    "\n",
    "1. **Run Setup First:** Always execute the setup cell before starting\n",
    "2. **Individual Cell Execution:** Run one cell at a time for maximum impact\n",
    "3. **Explain As You Go:** Use the cell outputs to explain what's happening\n",
    "4. **Interactive Elements:** Encourage audience questions during execution\n",
    "5. **Save Runtime:** Keep notebook active during presentation\n",
    "\n",
    "### 🌐 Accessing This Notebook:\n",
    "\n",
    "1. **Upload to Google Drive:** Save the .ipynb file to your Google Drive\n",
    "2. **Open in Colab:** Right-click → Open with → Google Colaboratory\n",
    "3. **Share Link:** Use Colab's sharing features for team demos\n",
    "4. **Run Setup:** Execute the first cell to install required tools\n",
    "\n",
    "---\n",
    "\n",
    "**🎉 Ready to demonstrate the power of Cloudflare security!**\n",
    "\n",
    "Each cell is designed to showcase a specific aspect of Cloudflare's comprehensive security platform. Run them individually during your presentation for maximum educational impact!"
   ]
  }
 ],
 "metadata": {
  "colab": {
   "collapsed_sections": [],
   "name": "Cloudflare Security Demo - Colab Edition",
   "provenance": [],
   "toc_visible": true
  },
  "kernelspec": {
   "display_name": "Python 3",
   "language": "python",
   "name": "python3"
  },
  "language_info": {
   "codemirror_mode": {
    "name": "ipython",
    "version": 3
   },
   "file_extension": ".py",
   "mimetype": "text/x-python",
   "name": "python",
   "nbconvert_exporter": "python",
   "pygments_lexer": "ipython3",
   "version": "3.8.5"
  }
 },
 "nbformat": 4,
 "nbformat_minor": 4
}